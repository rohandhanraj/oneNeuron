{
 "cells": [
  {
   "cell_type": "code",
   "execution_count": null,
   "source": [
    "print('hello al')"
   ],
   "outputs": [],
   "metadata": {}
  },
  {
   "cell_type": "code",
   "execution_count": 1,
   "source": [
    "import numpy as np\r\n",
    "a = np.random.randint(1,100, size=(10,5))\r\n",
    "a"
   ],
   "outputs": [
    {
     "output_type": "execute_result",
     "data": {
      "text/plain": [
       "array([[67, 60, 90, 77, 86],\n",
       "       [ 9, 70, 59, 16,  8],\n",
       "       [ 3, 19, 49, 56,  9],\n",
       "       [33, 75, 65, 37, 61],\n",
       "       [ 7, 14, 68,  5, 94],\n",
       "       [87, 30, 74, 47, 78],\n",
       "       [23, 55, 90, 87, 51],\n",
       "       [17, 76, 15, 74, 49],\n",
       "       [26, 72, 19, 30, 33],\n",
       "       [79, 15, 85, 24, 16]])"
      ]
     },
     "metadata": {},
     "execution_count": 1
    }
   ],
   "metadata": {}
  },
  {
   "cell_type": "code",
   "execution_count": 2,
   "source": [
    "b = np.random.randint(10,20,size = 10)\r\n",
    "b"
   ],
   "outputs": [
    {
     "output_type": "execute_result",
     "data": {
      "text/plain": [
       "array([12, 10, 16, 13, 14, 10, 10, 10, 12, 16])"
      ]
     },
     "metadata": {},
     "execution_count": 2
    }
   ],
   "metadata": {}
  },
  {
   "cell_type": "code",
   "execution_count": 5,
   "source": [
    "a.T.dot(b)"
   ],
   "outputs": [
    {
     "output_type": "execute_result",
     "data": {
      "text/plain": [
       "array([4315, 5609, 7629, 5355, 5797])"
      ]
     },
     "metadata": {},
     "execution_count": 5
    }
   ],
   "metadata": {}
  }
 ],
 "metadata": {
  "orig_nbformat": 4,
  "language_info": {
   "name": "python",
   "version": "3.7.11",
   "mimetype": "text/x-python",
   "codemirror_mode": {
    "name": "ipython",
    "version": 3
   },
   "pygments_lexer": "ipython3",
   "nbconvert_exporter": "python",
   "file_extension": ".py"
  },
  "kernelspec": {
   "name": "python3",
   "display_name": "Python 3.7.11 64-bit ('oneNeuron': conda)"
  },
  "interpreter": {
   "hash": "0c028d9ed5437548e15b0a39c4fba4b2ff1305dd68a8b43b368c3f383b0075da"
  }
 },
 "nbformat": 4,
 "nbformat_minor": 2
}